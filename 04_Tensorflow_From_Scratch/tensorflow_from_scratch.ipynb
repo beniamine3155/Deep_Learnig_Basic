{
 "cells": [
  {
   "cell_type": "markdown",
   "metadata": {},
   "source": [
    "## Tensorflow From Scratch"
   ]
  },
  {
   "cell_type": "markdown",
   "metadata": {},
   "source": [
    "#### Importing Libraries"
   ]
  },
  {
   "cell_type": "code",
   "execution_count": 1,
   "metadata": {},
   "outputs": [],
   "source": [
    "import tensorflow as tf\n",
    "import numpy as np\n",
    "import matplotlib.pyplot as plt\n"
   ]
  },
  {
   "cell_type": "code",
   "execution_count": 2,
   "metadata": {},
   "outputs": [
    {
     "name": "stdout",
     "output_type": "stream",
     "text": [
      "tf.Tensor(\n",
      "[[5 0]\n",
      " [1 3]], shape=(2, 2), dtype=int32)\n"
     ]
    }
   ],
   "source": [
    "# create a constant tensor\n",
    "x = tf.constant([[5, 0], [1, 3]]) \n",
    "print(x)"
   ]
  },
  {
   "cell_type": "code",
   "execution_count": 3,
   "metadata": {},
   "outputs": [
    {
     "data": {
      "text/plain": [
       "array([[5, 0],\n",
       "       [1, 3]], dtype=int32)"
      ]
     },
     "execution_count": 3,
     "metadata": {},
     "output_type": "execute_result"
    }
   ],
   "source": [
    "# convert to numpy array\n",
    "x.numpy() "
   ]
  },
  {
   "cell_type": "code",
   "execution_count": 4,
   "metadata": {},
   "outputs": [
    {
     "name": "stdout",
     "output_type": "stream",
     "text": [
      "6.0\n"
     ]
    }
   ],
   "source": [
    "x = tf.constant(3.0) # create a constant tensor\n",
    "with tf.GradientTape() as tape: # GradientTape records operations for automatic differentiation\n",
    "    tape.watch(x)\n",
    "    y = x * x\n",
    "\n",
    "print(tape.gradient(y, x).numpy()) # compute the gradient of y with respect to x"
   ]
  },
  {
   "cell_type": "code",
   "execution_count": null,
   "metadata": {},
   "outputs": [],
   "source": [
    "dense1 = tf.keras.layers.Dense(32) # create a dense layer with 32 units\n",
    "dense2 = tf.keras.layers.Dense(32)\n",
    "\n",
    "with tf.GradientTape() as tape:\n",
    "    result = dense2(dense1(tf.zeros([1, 10]))) # chain the two layers dense1 and dense2, tf.zeros([1, 10]) is the input that is passed through the layers\n",
    "    tape.gradient(result, dense1.variables) # compute the gradient of the result with respect to the variables of dense1\n"
   ]
  },
  {
   "cell_type": "code",
   "execution_count": 8,
   "metadata": {},
   "outputs": [],
   "source": [
    "def make_noisy_data(m=0.1, b=0.3, n=100): # m=0.1 and b=0.3 are the slope and the intercept of the line, n=100 is the number of data points\n",
    "  x = tf.random.uniform(shape=(n,)) # generate random data points, here shape=(n,) means that x is a 1D array with n elements\n",
    "  noise = tf.random.normal(shape=(len(x),), stddev=0.01) # generate random noise, stddev is the standard deviation of the normal distribution\n",
    "  y = m * x + b + noise # compute the y values\n",
    "  return x, y\n",
    "\n",
    "# make_noisy_data() returns two tensors x and y, x is the input data and y is the noisy output data"
   ]
  },
  {
   "cell_type": "code",
   "execution_count": 9,
   "metadata": {},
   "outputs": [],
   "source": [
    "x_train, y_train = make_noisy_data() # generate training data"
   ]
  },
  {
   "cell_type": "code",
   "execution_count": 10,
   "metadata": {},
   "outputs": [
    {
     "data": {
      "text/plain": [
       "[<matplotlib.lines.Line2D at 0x16bb7c110>]"
      ]
     },
     "execution_count": 10,
     "metadata": {},
     "output_type": "execute_result"
    },
    {
     "data": {
      "image/png": "[encoded data removed]",
      "text/plain": [
       "<Figure size 640x480 with 1 Axes>"
      ]
     },
     "metadata": {},
     "output_type": "display_data"
    }
   ],
   "source": [
    "plt.plot(x_train, y_train, 'b.') # plot the training data"
   ]
  },
  {
   "cell_type": "code",
   "execution_count": 11,
   "metadata": {},
   "outputs": [],
   "source": [
    "m = tf.Variable(0.) # initialize the slope\n",
    "b = tf.Variable(0.) # initialize the intercept"
   ]
  },
  {
   "cell_type": "code",
   "execution_count": 12,
   "metadata": {},
   "outputs": [],
   "source": [
    "# linear regression model\n",
    "def predict(x): \n",
    "    y = m * x + b \n",
    "    return y"
   ]
  },
  {
   "cell_type": "code",
   "execution_count": 13,
   "metadata": {},
   "outputs": [],
   "source": [
    "# compute the squared error\n",
    "def squared_error(y_pred, y_true): \n",
    "    return tf.reduce_mean(tf.square(y_pred - y_true))"
   ]
  },
  {
   "cell_type": "code",
   "execution_count": 14,
   "metadata": {},
   "outputs": [
    {
     "name": "stdout",
     "output_type": "stream",
     "text": [
      "Starting Loss 0.12563357\n"
     ]
    }
   ],
   "source": [
    "# compute the loss\n",
    "loss = squared_error(predict(x_train), y_train) \n",
    "print('Starting Loss', loss.numpy())"
   ]
  },
  {
   "cell_type": "code",
   "execution_count": 15,
   "metadata": {},
   "outputs": [
    {
     "name": "stdout",
     "output_type": "stream",
     "text": [
      "Step 0, Loss 0.125634\n",
      "Step 20, Loss 0.000780\n",
      "Step 40, Loss 0.000254\n",
      "Step 60, Loss 0.000217\n",
      "Step 80, Loss 0.000191\n",
      "Step 100, Loss 0.000170\n",
      "Step 120, Loss 0.000154\n",
      "Step 140, Loss 0.000142\n",
      "Step 160, Loss 0.000132\n",
      "Step 180, Loss 0.000125\n"
     ]
    }
   ],
   "source": [
    "learning_rate = 0.05 # set the learning rate\n",
    "steps = 200 # set the number of optimization steps\n",
    "\n",
    "for i in range(steps):\n",
    "  \n",
    "  with tf.GradientTape() as tape:\n",
    "    predictions = predict(x_train)\n",
    "    loss = squared_error(predictions, y_train)\n",
    "    \n",
    "  gradients = tape.gradient(loss, [m, b])\n",
    "  \n",
    "  m.assign_sub(gradients[0] * learning_rate) # update the slope\n",
    "  b.assign_sub(gradients[1] * learning_rate) # update the intercept\n",
    "  \n",
    "  if i % 20 == 0:    \n",
    "    print(\"Step %d, Loss %f\" % (i, loss.numpy())) # print the loss every 20 steps\n"
   ]
  },
  {
   "cell_type": "code",
   "execution_count": 16,
   "metadata": {},
   "outputs": [
    {
     "name": "stdout",
     "output_type": "stream",
     "text": [
      "m: 0.112903, b: 0.293078\n"
     ]
    }
   ],
   "source": [
    "# print the final slope and intercept\n",
    "print (\"m: %f, b: %f\" % (m.numpy(), b.numpy()))"
   ]
  },
  {
   "cell_type": "code",
   "execution_count": 17,
   "metadata": {},
   "outputs": [
    {
     "data": {
      "image/png": "[encoded data removed]",
      "text/plain": [
       "<Figure size 640x480 with 1 Axes>"
      ]
     },
     "metadata": {},
     "output_type": "display_data"
    }
   ],
   "source": [
    "# plot the training data and the learned line\n",
    "plt.plot(x_train, y_train, 'b.')\n",
    "plt.plot(x_train, predict(x_train))\n",
    "plt.grid('off')"
   ]
  },
  {
   "cell_type": "code",
   "execution_count": null,
   "metadata": {},
   "outputs": [],
   "source": []
  }
 ],
 "metadata": {
  "kernelspec": {
   "display_name": "base",
   "language": "python",
   "name": "python3"
  },
  "language_info": {
   "codemirror_mode": {
    "name": "ipython",
    "version": 3
   },
   "file_extension": ".py",
   "mimetype": "text/x-python",
   "name": "python",
   "nbconvert_exporter": "python",
   "pygments_lexer": "ipython3",
   "version": "3.12.7"
  }
 },
 "nbformat": 4,
 "nbformat_minor": 2
}
